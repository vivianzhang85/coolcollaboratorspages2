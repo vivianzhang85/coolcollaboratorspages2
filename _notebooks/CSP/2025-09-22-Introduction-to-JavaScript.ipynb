{
 "cells": [
  {
   "cell_type": "markdown",
   "id": "ae852af1",
   "metadata": {},
   "source": [
    "---\n",
    "title: Intro to Javascript\n",
    "description: Learn how and why Javascript is Used and How it works\n",
    "comments: false\n",
    "layout: post\n",
    "permalink: /csp/big-idea-3/javascript/p3/intro\n",
    "---"
   ]
  },
  {
   "cell_type": "markdown",
   "id": "36231f26",
   "metadata": {},
   "source": [
    "\n",
    "## JavaScript Overview\n",
    "-------------------\n",
    "\n",
    "JavaScript is a high-level, interpreted programming language primarily known\n",
    "for enabling interactive and dynamic content on the web. It runs directly\n",
    "inside web browsers, which means developers can update a page’s content,\n",
    "control multimedia, animate elements, and handle user input without needing\n",
    "to reload the entire page.\n",
    "\n",
    "### Why JavaScript is Used\n",
    "----------------------\n",
    "1. **Client-Side Interactivity**: Allows real-time user interactions like form\n",
    "   validation, animations, and interactive menus.\n",
    "2. **Full-Stack Development**: With Node.js, JavaScript can also run on servers,\n",
    "   enabling developers to use one language for both front-end and back-end code.\n",
    "3. **Rich Ecosystem**: A vast library and framework ecosystem (React, Vue,\n",
    "   Angular, Express) accelerates development.\n",
    "\n",
    "### Unique Use Cases\n",
    "----------------\n",
    "- Building Single-Page Applications (SPAs) that behave like desktop apps\n",
    "- Creating real-time chat applications using WebSockets\n",
    "- Developing cross-platform mobile apps with frameworks like React Native\n",
    "- Game development for browsers using WebGL or Canvas APIs\n",
    "- Internet of Things (IoT) devices with lightweight Node.js servers\n",
    "\n",
    "### Distinct Properties\n",
    "-------------------\n",
    "- **Dynamic Typing**: Variables can hold values of any type at runtime.\n",
    "- **Prototype-Based Inheritance**: Objects inherit directly from other objects\n",
    "  rather than through classical classes (though ES6 class syntax exists).\n",
    "- **Event-Driven and Asynchronous**: Uses an event loop with callbacks, promises,\n",
    "  and async/await for non-blocking operations.\n",
    "- **First-Class Functions**: Functions can be stored in variables, passed as\n",
    "  arguments, and returned from other functions.\n",
    "\n",
    "### Core Concepts\n",
    "-------------\n",
    "1. **Variables & Scope**: `var`, `let`, and `const` keywords define variables\n",
    "   with different scoping rules.\n",
    "2. **Data Types**: Includes primitives (Number, String, Boolean, Null, Undefined,\n",
    "   Symbol, BigInt) and objects.\n",
    "3. **Functions & Closures**: Functions can capture variables from their\n",
    "   surrounding scope, forming closures.\n",
    "4. **Objects & Prototypes**: Object-oriented features are built on prototypes\n",
    "   rather than classical inheritance.\n",
    "5. **DOM Manipulation**: Directly interact with and modify HTML/CSS for\n",
    "   responsive web pages.\n",
    "6. **Asynchronous Programming**: Handle tasks like API calls using callbacks,\n",
    "   promises, and async/await to avoid blocking the main thread.\n",
    "\n",
    "### Summary\n",
    "-------\n",
    "JavaScript’s versatility—running in browsers, servers, and even embedded\n",
    "devices—combined with its event-driven, asynchronous model and rich ecosystem\n",
    "make it a cornerstone of modern software development.\n",
    "\"\"\"\n",
    "\n",
    "Next Lesson:\n",
    "[Variables](https://akhilkulkarni123.github.io/TheSprinters/Variables)"
   ]
  }
 ],
 "metadata": {
  "kernelspec": {
   "display_name": "venv",
   "language": "python",
   "name": "python3"
  },
  "language_info": {
   "codemirror_mode": {
    "name": "ipython",
    "version": 3
   },
   "file_extension": ".py",
   "mimetype": "text/x-python",
   "name": "python",
   "nbconvert_exporter": "python",
   "pygments_lexer": "ipython3",
   "version": "3.9.6"
  }
 },
 "nbformat": 4,
 "nbformat_minor": 5
}
