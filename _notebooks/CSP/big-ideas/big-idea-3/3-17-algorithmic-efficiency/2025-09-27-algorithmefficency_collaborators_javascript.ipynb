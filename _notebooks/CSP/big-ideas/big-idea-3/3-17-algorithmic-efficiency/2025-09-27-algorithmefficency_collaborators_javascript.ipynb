{
 "cells": [
  {
   "cell_type": "markdown",
   "id": "6e5d86c6",
   "metadata": {
    "vscode": {
     "languageId": "raw"
    }
   },
   "source": [
    "---\n",
    "layout: post\n",
    "title: Algorithm Efficiency Homework\n",
    "description: Quick practice with Algorithm Efficiency\n",
    "permalink: csp/javascript/algorithmefficency/collaborators/homework\n",
    "Authors: Virginia Zhu and Vivian Zhang\n",
    "---"
   ]
  },
  {
   "cell_type": "code",
   "execution_count": null,
   "id": "fec39659",
   "metadata": {
    "vscode": {
     "languageId": "javascript"
    }
   },
   "outputs": [],
   "source": [
    "function doubleArray(arr) {\n",
    "  let result = [];\n",
    "  for (let i = 0; i < arr.length; i++) {\n",
    "    result.push(arr[i] * 2);\n",
    "  }\n",
    "  return result;\n",
    "}"
   ]
  },
  {
   "cell_type": "raw",
   "id": "5e45686f",
   "metadata": {
    "vscode": {
     "languageId": "raw"
    }
   },
   "source": [
    "Type your answers below the questions. This code snippet doubles the items in the array \n",
    "\n",
    "How does the time to run change if the array doubles in size?\n",
    "\n",
    "What type of algorithm is this?"
   ]
  },
  {
   "cell_type": "markdown",
   "id": "18cfa10f",
   "metadata": {},
   "source": [
    "<!-- 1️⃣ Decision vs Optimization (A / B style) -->\n",
    "<div style=\"font-family:system-ui,sans-serif; background:#0b0c0f; color:#f6f7fb; padding:20px; border-radius:16px; max-width:900px; margin:auto; line-height:1.6; margin-bottom:20px;\">\n",
    "  <h2>1️⃣ Decision vs Optimization</h2>\n",
    "  <p>A. Is there a path from your house to school?</p>\n",
    "  <label><input type=\"radio\" name=\"p1a\" value=\"A\"> A</label>\n",
    "  <label><input type=\"radio\" name=\"p1a\" value=\"B\"> B</label>\n",
    "\n",
    "  <p>B. What is the shortest path from your house to school?</p>\n",
    "  <label><input type=\"radio\" name=\"p1b\" value=\"A\"> A</label>\n",
    "  <label><input type=\"radio\" name=\"p1b\" value=\"B\"> B</label>\n",
    "\n",
    "  <p>C. Can all classes fit into a weekly schedule without overlap?</p>\n",
    "  <label><input type=\"radio\" name=\"p1c\" value=\"A\"> A</label>\n",
    "  <label><input type=\"radio\" name=\"p1c\" value=\"B\"> B</label>\n",
    "\n",
    "  <p>D. Minimize total travel time for deliveries to 10 cities.</p>\n",
    "  <label><input type=\"radio\" name=\"p1d\" value=\"A\"> A</label>\n",
    "  <label><input type=\"radio\" name=\"p1d\" value=\"B\"> B</label>\n",
    "</div>\n"
   ]
  },
  {
   "cell_type": "code",
   "execution_count": null,
   "id": "383b87a3",
   "metadata": {
    "vscode": {
     "languageId": "plaintext"
    }
   },
   "outputs": [],
   "source": [
    "Type A or B for each question below\n",
    "A.\n",
    "B.\n",
    "C.\n",
    "D. "
   ]
  },
  {
   "cell_type": "markdown",
   "id": "3e3aeae4",
   "metadata": {},
   "source": [
    "<!-- 2️⃣ Algorithm Efficiency Table -->\n",
    "<div style=\"font-family:system-ui,sans-serif; background:#0b0c0f; color:#f6f7fb; padding:20px; border-radius:16px; max-width:900px; margin:auto; line-height:1.6; margin-bottom:20px;\">\n",
    "  <h2>2️⃣ Algorithm Efficiency Table</h2>\n",
    "  <table style=\"width:100%; border-collapse:collapse; margin-bottom:10px;\">\n",
    "    <thead>\n",
    "      <tr style=\"border-bottom:2px solid #f6f7fb;\">\n",
    "        <th>Input Size (n)</th>\n",
    "        <th>Algorithm X Steps</th>\n",
    "        <th>Algorithm Y Steps</th>\n",
    "        <th>Algorithm Z Steps</th>\n",
    "      </tr>\n",
    "    </thead>\n",
    "    <tbody>\n",
    "      <tr><td>1</td><td>3</td><td>2</td><td>1</td></tr>\n",
    "      <tr><td>2</td><td>6</td><td>4</td><td>2</td></tr>\n",
    "      <tr><td>3</td><td>9</td><td>8</td><td>6</td></tr>\n",
    "      <tr><td>4</td><td>12</td><td>16</td><td>24</td></tr>\n",
    "      <tr><td>5</td><td>15</td><td>32</td><td>120</td></tr>\n",
    "    </tbody>\n",
    "  </table>\n",
    "  \n"
   ]
  },
  {
   "cell_type": "code",
   "execution_count": null,
   "id": "c01656e6",
   "metadata": {
    "vscode": {
     "languageId": "plaintext"
    }
   },
   "outputs": [],
   "source": [
    "Type the growth types for each algorithim below:\n",
    "\n",
    "Algorithm X:\n",
    "Algorithm Y:\n",
    "Algorithm Z: \n",
    "\n",
    "Which is most reasonable for large n? \n"
   ]
  },
  {
   "cell_type": "markdown",
   "id": "c284d040",
   "metadata": {},
   "source": [
    "<!-- 3️⃣ Algorithm A (grows by 3ⁿ) -->\n",
    "<div style=\"font-family:system-ui,sans-serif; background:#0b0c0f; color:#f6f7fb; padding:20px; border-radius:16px; max-width:900px; margin:auto; line-height:1.6; margin-bottom:20px;\">\n",
    "  <h2>3️⃣ Algorithm A (grows by 3ⁿ)</h2>\n",
    "  <table style=\"width:100%; border-collapse:collapse; margin-bottom:10px;\">\n",
    "    <thead>\n",
    "      <tr style=\"border-bottom:2px solid #f6f7fb;\">\n",
    "        <th>Input Size (n)</th><th>Steps</th>\n",
    "      </tr>\n",
    "    </thead>\n",
    "    <tbody>\n",
    "      <tr><td>1</td><td>3</td></tr>\n",
    "      <tr><td>2</td><td><input type=\"text\" style=\"width:50px\"></td></tr>\n",
    "      <tr><td>3</td><td><input type=\"text\" style=\"width:50px\"></td></tr>\n",
    "      <tr><td>4</td><td><input type=\"text\" style=\"width:50px\"></td></tr>\n",
    "      <tr><td>5</td><td><input type=\"text\" style=\"width:50px\"></td></tr>\n",
    "    </tbody>\n",
    "  </table>\n",
    " "
   ]
  },
  {
   "cell_type": "code",
   "execution_count": null,
   "id": "d992596d",
   "metadata": {
    "vscode": {
     "languageId": "plaintext"
    }
   },
   "outputs": [],
   "source": [
    "Type the following steps that belong in the blank boxes below: \n",
    "\n",
    "\n",
    "\n",
    "What is the efficency type? \n",
    "\n",
    "\n",
    "Is this algorithm reasonable for large input sizes? Type yes or no.\n"
   ]
  },
  {
   "cell_type": "markdown",
   "id": "6ee767d0",
   "metadata": {
    "vscode": {
     "languageId": "plaintext"
    }
   },
   "source": [
    "<!-- 4️⃣ Counting Steps (A / B / C / D style) -->\n",
    "<div style=\"font-family:system-ui,sans-serif; background:#0b0c0f; color:#f6f7fb; padding:20px; border-radius:16px; max-width:900px; margin:auto; line-height:1.6; margin-bottom:20px;\">\n",
    "  <h2>4️⃣ Counting Steps</h2>\n",
    "  <p>Compares every pair of items in a list of size n.</p>\n",
    "\n",
    "  <p>1) Steps for n=4:</p>\n",
    "  <label><input type=\"radio\" name=\"p4-1\" value=\"A\"> A. 4</label>\n",
    "  <label><input type=\"radio\" name=\"p4-1\" value=\"B\"> B. 8</label>\n",
    "  <label><input type=\"radio\" name=\"p4-1\" value=\"C\"> C. 16</label>\n",
    "  <label><input type=\"radio\" name=\"p4-1\" value=\"D\"> D. 24</label>\n",
    "\n",
    "  <p>2) Efficiency type:</p>\n",
    "  <label><input type=\"radio\" name=\"p4-2\" value=\"A\"> A. O(n)</label>\n",
    "  <label><input type=\"radio\" name=\"p4-2\" value=\"B\"> B. O(n²)</label>\n",
    "  <label><input type=\"radio\" name=\"p4-2\" value=\"C\"> C. O(2ⁿ)</label>\n",
    "  <label><input type=\"radio\" name=\"p4-2\" value=\"D\"> D. O(n!)</label>\n",
    "\n",
    "  <p>3) Reasonable for very large lists?</p>\n",
    "  <label><input type=\"radio\" name=\"p4-3\" value=\"A\"> A. Yes</label>\n",
    "  <label><input type=\"radio\" name=\"p4-3\" value=\"B\"> B. No</label>\n",
    "</div>\n"
   ]
  },
  {
   "cell_type": "code",
   "execution_count": null,
   "id": "b8ddec96",
   "metadata": {
    "vscode": {
     "languageId": "plaintext"
    }
   },
   "outputs": [],
   "source": [
    "Types the letter corresponding to the correct answer for each question below:\n",
    "\n",
    "1.\n",
    "\n",
    "2.\n",
    "\n",
    "3."
   ]
  }
 ],
 "metadata": {
  "language_info": {
   "name": "python"
  }
 },
 "nbformat": 4,
 "nbformat_minor": 5
}
