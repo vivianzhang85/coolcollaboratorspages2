{
 "cells": [
  {
   "cell_type": "markdown",
   "id": "6e5d86c6",
   "metadata": {
    "vscode": {
     "languageId": "raw"
    }
   },
   "source": [
    "---\n",
    "layout: post\n",
    "title: Algorithm Efficiency Homework\n",
    "description: Quick practice with Algorithm Efficiency\n",
    "permalink: csp/python/algorithmefficency/collaborators/homework\n",
    "Authors: Virginia Zhu and Vivian Zhang\n",
    "---"
   ]
  },
  {
   "cell_type": "code",
   "execution_count": null,
   "id": "42144835",
   "metadata": {},
   "outputs": [],
   "source": [
    "def count_evens(lst):\n",
    "    count = 0\n",
    "    for num in lst:\n",
    "        if num % 2 == 0:\n",
    "            count += 1\n",
    "    return count"
   ]
  },
  {
   "cell_type": "raw",
   "id": "ca3de9ad",
   "metadata": {
    "vscode": {
     "languageId": "raw"
    }
   },
   "source": [
    "Type under each question to answer. This code snippet goes through the list once\n",
    "\n",
    "What type of algorithm is this? (linear, quadratic, etc.)\n",
    "\n",
    "What is the time complexity in Big O notation?"
   ]
  },
  {
   "cell_type": "code",
   "execution_count": null,
   "id": "f3d795ee",
   "metadata": {},
   "outputs": [],
   "source": [
    "def print_pairs(lst):\n",
    "    for i in lst:\n",
    "        for j in lst:\n",
    "            print(i, j)"
   ]
  },
  {
   "cell_type": "raw",
   "id": "c1032c74",
   "metadata": {
    "vscode": {
     "languageId": "raw"
    }
   },
   "source": [
    "Type under the question to answer. This code snippet is a nested loop that runs twice\n",
    "\n",
    "What type of algorithm is this? (linear, quadratic, etc.)"
   ]
  },
  {
   "cell_type": "markdown",
   "id": "d426e049",
   "metadata": {
    "vscode": {
     "languageId": "plaintext"
    }
   },
   "source": [
    "<!-- 5️⃣ Heuristic Scenario -->\n",
    "<div style=\"font-family:system-ui,sans-serif; background:#0b0c0f; color:#f6f7fb; padding:20px; border-radius:16px; max-width:900px; margin:auto; line-height:1.6; margin-bottom:20px;\">\n",
    "  <h2>1️⃣ Heuristic Scenario</h2>\n",
    "  <p><strong>Scenario:</strong> A city wants to design bus routes covering all neighborhoods. There are hundreds of possible routes, and finding the perfect shortest set is too complex.</p>\n",
    "\n",
    "  <p>1) Explain one heuristic approach the city could use:</p>\n",
    " \n",
    "\n",
    "  <p>2) Why might this heuristic not give the optimal solution?</p>\n",
    " \n",
    "</div>\n"
   ]
  },
  {
   "cell_type": "code",
   "execution_count": null,
   "id": "ed11a06a",
   "metadata": {
    "vscode": {
     "languageId": "plaintext"
    }
   },
   "outputs": [],
   "source": [
    "Type your free response to the questions below:\n",
    "\n",
    "1.\n",
    "\n",
    "2."
   ]
  },
  {
   "cell_type": "markdown",
   "id": "3153a088",
   "metadata": {},
   "source": [
    "<!-- 6️⃣ Algorithm B -->\n",
    "<div style=\"font-family:system-ui,sans-serif; background:#0b0c0f; color:#f6f7fb; padding:20px; border-radius:16px; max-width:900px; margin:auto; line-height:1.6; margin-bottom:20px;\">\n",
    "  <h2>2️⃣  Algorithm B</h2>\n",
    "\n",
    "  <table style=\"width:100%; border-collapse:collapse; margin-bottom:10px;\">\n",
    "    <thead>\n",
    "      <tr style=\"border-bottom:2px solid #f6f7fb;\">\n",
    "        <th>Input Size (n)</th><th>Steps</th>\n",
    "      </tr>\n",
    "    </thead>\n",
    "    <tbody>\n",
    "      <tr><td>1</td><td>2</td></tr>\n",
    "      <tr><td>2</td><td>4</td></tr>\n",
    "      <tr><td>3</td><td>8</td></tr>\n",
    "      <tr><td>4</td><td>?</td></tr>\n",
    "      <tr><td>5</td><td>?</td></tr>\n",
    "    </tbody>\n",
    "  </table>\n",
    "\n",
    "  <p>Efficiency type:</p>\n",
    "  <label><input type=\"radio\" name=\"bType\"> A. Linear</label><br>\n",
    "  <label><input type=\"radio\" name=\"bType\"> B. Quadratic</label><br>\n",
    "  <label><input type=\"radio\" name=\"bType\"> C. Exponential</label><br>\n",
    "  <label><input type=\"radio\" name=\"bType\"> D. Factorial</label>\n",
    "\n",
    "  <p>Reasonable for large n?</p>\n",
    "  <label><input type=\"radio\" name=\"bReasonable\"> A. Yes</label><br>\n",
    "  <label><input type=\"radio\" name=\"bReasonable\"> B. No</label>\n",
    "</div>\n"
   ]
  },
  {
   "cell_type": "code",
   "execution_count": null,
   "id": "8ebd042f",
   "metadata": {
    "vscode": {
     "languageId": "plaintext"
    }
   },
   "outputs": [],
   "source": [
    "Type the letter corresponding to the correct answer below:\n",
    "\n",
    "Efficency type:\n",
    "\n",
    "Reasonable for large n?"
   ]
  },
  {
   "cell_type": "markdown",
   "id": "bd199996",
   "metadata": {},
   "source": [
    "<!-- 7️⃣ TSP Heuristic -->\n",
    "<div style=\"font-family:system-ui,sans-serif; background:#0b0c0f; color:#f6f7fb; padding:20px; border-radius:16px; max-width:900px; margin:auto; line-height:1.6; margin-bottom:20px;\">\n",
    "  <h2>4️⃣ TSP Heuristic</h2>\n",
    "  <p>Scenario: A city wants to design bus routes covering all neighborhoods. There are hundreds of possible routes, and finding the perfect shortest set is too complex.</p>\n",
    "  <p>Select the approach the city could use:</p>\n",
    "  <label>A. Check all 120 possible routes <input type=\"radio\" name=\"tsp\"></label><br>\n",
    "  <label>B. Always go to nearest unvisited city <input type=\"radio\" name=\"tsp\"></label><br>\n",
    "  <label>C. Randomly choose cities and hope for shortest path <input type=\"radio\" name=\"tsp\"></label><br>\n",
    "  <label>D. List routes alphabetically <input type=\"radio\" name=\"tsp\"></label>\n",
    "</div>\n"
   ]
  },
  {
   "cell_type": "code",
   "execution_count": null,
   "id": "eddfe7b9",
   "metadata": {
    "vscode": {
     "languageId": "plaintext"
    }
   },
   "outputs": [],
   "source": [
    "Type the letter corresponding to the correct answer choice below:\n",
    "\n"
   ]
  },
  {
   "cell_type": "markdown",
   "id": "db4d34e6",
   "metadata": {},
   "source": [
    "<!-- 8️⃣ Efficiency Ranking -->\n",
    "<div style=\"font-family:system-ui,sans-serif; background:#0b0c0f; color:#f6f7fb; padding:20px; border-radius:16px; max-width:900px; margin:auto; line-height:1.6; margin-bottom:20px;\">\n",
    "  <h2>5️⃣ Efficiency Ranking</h2>\n",
    "  <table style=\"width:100%; border-collapse:collapse; margin-bottom:10px;\">\n",
    "    <thead>\n",
    "      <tr style=\"border-bottom:2px solid #f6f7fb;\">\n",
    "        <th>n</th>\n",
    "        <th>Algorithm P</th>\n",
    "        <th>Algorithm Q</th>\n",
    "        <th>Algorithm R</th>\n",
    "      </tr>\n",
    "    </thead>\n",
    "    <tbody>\n",
    "      <tr><td>1</td><td>1</td><td>1</td><td>2</td></tr>\n",
    "      <tr><td>2</td><td>2</td><td>4</td><td>4</td></tr>\n",
    "      <tr><td>3</td><td>3</td><td>9</td><td>8</td></tr>\n",
    "      <tr><td>4</td><td>4</td><td>16</td><td>16</td></tr>\n",
    "      <tr><td>5</td><td>5</td><td>25</td><td>32</td></tr>\n",
    "    </tbody>\n",
    "  </table>\n",
    "\n"
   ]
  },
  {
   "cell_type": "code",
   "execution_count": null,
   "id": "6c039c88",
   "metadata": {
    "vscode": {
     "languageId": "plaintext"
    }
   },
   "outputs": [],
   "source": [
    "Rank each algorithm from most -> least efficent below:\n",
    "\n"
   ]
  }
 ],
 "metadata": {
  "language_info": {
   "name": "python"
  }
 },
 "nbformat": 4,
 "nbformat_minor": 5
}
