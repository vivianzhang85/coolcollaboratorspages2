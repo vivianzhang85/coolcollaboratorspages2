{
 "cells": [
  {
   "cell_type": "raw",
   "id": "6d62ad69",
   "metadata": {
    "vscode": {
     "languageId": "raw"
    }
   },
   "source": [
    "---\n",
    "layout: post\n",
    "title: Variables & Assignments\n",
    "description: This page will provide homework for the variables and assigmnets lesson.\n",
    "permalink: /python/variables/zombies/hw\n",
    "breadcrumb: True\n",
    "Author: Ethan Patel, Tanay Paranjpe, Neil Manjrekar\n",
    "---"
   ]
  },
  {
   "cell_type": "markdown",
   "id": "2b9da6aa",
   "metadata": {},
   "source": [
    "## Variables & Assignment Homework\n",
    "---\n",
    "Description:\n",
    "- In this homework hack, you will practice creating and using variables. You’ll define variables to store your name and age, reassign values, and answer interactive questions to test your understanding. This activity will help you master the basics of variables and how they work in programming."
   ]
  },
  {
   "cell_type": "markdown",
   "id": "352d458b",
   "metadata": {
    "vscode": {
     "languageId": "plaintext"
    }
   },
   "source": [
    "# 🏠 Variables Quest Homework\n",
    "\n",
    "**Objective:** Practice creating, manipulating, and combining strings in Python.\n",
    "\n",
    "---\n",
    "\n",
    "## Instructions\n",
    "\n",
    "Complete each challenge by **filling in the missing code**. Use the examples as a guide, but make sure to write your own values or logic.\n"
   ]
  },
  {
   "cell_type": "markdown",
   "id": "39715e07",
   "metadata": {
    "vscode": {
     "languageId": "raw"
    }
   },
   "source": [
    "## Challenge 1: Creating a Life Profile with Variables"
   ]
  },
  {
   "cell_type": "code",
   "execution_count": 1,
   "id": "35609373",
   "metadata": {},
   "outputs": [
    {
     "ename": "SyntaxError",
     "evalue": "invalid character '“' (U+201C) (2477467956.py, line 21)",
     "output_type": "error",
     "traceback": [
      "  \u001b[36mCell\u001b[39m\u001b[36m \u001b[39m\u001b[32mIn[1]\u001b[39m\u001b[32m, line 21\u001b[39m\n\u001b[31m    \u001b[39m\u001b[31mPrint all your variables so your “Life Profile” is displayed:\u001b[39m\n                                     ^\n\u001b[31mSyntaxError\u001b[39m\u001b[31m:\u001b[39m invalid character '“' (U+201C)\n"
     ]
    }
   ],
   "source": [
    "# Part 1\n",
    "## Personal info\n",
    "my_name = Vivian Zhang           # Fill in your name\n",
    "my_age = 16            # Fill in your age\n",
    "my_city = San Diego          # Fill in the city where you live\n",
    "\n",
    "# Part 2\n",
    "## Preferences\n",
    "favorite_color = Navy Blue    # Your favorite color\n",
    "favorite_food = Sushi     # Your favorite food\n",
    "favorite_movie = The Parent Trap    # Your favorite movie\n",
    "favorite_song = Neverender     # Your favorite song\n",
    "\n",
    "# Part 3\n",
    "# Reassign some variables\n",
    "favorite_food = Ramen\n",
    "my_city = Los Angeles\n",
    "has_pet = True\n",
    "\n",
    "# Part 5: Print Your Life Profile\n",
    "Print all your variables so your “Life Profile” is displayed:\n",
    "\n",
    "print(\"Vivian:\", my_name)\n",
    "print(\"16:\", my_age)\n",
    "print(\"San Diego:\", my_city)\n",
    "print(\"Navy Blue:\", favorite_color)\n",
    "print(\"Sushi:\", favorite_food)\n",
    "print(\"The Parent Trap:\", favorite_movie)\n",
    "print(\"Neverender:\", favorite_song)\n",
    "print(\"Student?\", is_student)\n",
    "print(\"Has pet?\", has_pet)\n",
    "print(\"Online?\", is_online)\n",
    "print(\"Likes music?\", likes_music)\n"
   ]
  },
  {
   "cell_type": "markdown",
   "id": "748cd3e2",
   "metadata": {},
   "source": [
    "# Task 2 "
   ]
  },
  {
   "cell_type": "markdown",
   "id": "a775e8cf",
   "metadata": {
    "vscode": {
     "languageId": "html"
    }
   },
   "source": [
    "## Creative Challenge \n",
    "\n",
    "Your task: Create a “story” or “profile” using **ONLY variables and assignments**.  \n",
    "\n",
    "\n",
    "### Instructions:\n",
    "\n",
    "1. **Create at least 8 variables** to describe a character or yourself.  \n",
    "   Examples:  \n",
    "   `name`, `age`, `favorite_food`, `hobby`, `number_of_pets`, `mood`, `favorite_color`, `dream_job`\n",
    "\n",
    "2. **Assign initial values** to all variables.\n",
    "\n",
    "3. **Reassign at least 4 of the variables** to new values to simulate changes over time or “events” in the story.\n",
    "\n",
    "4. Use **print statements** to write a story or profile that is **at least 5 sentences long**.  \n",
    "   Each sentence should include at least one variable.  \n",
    "   Example:  \n",
    "   > \"Tanay ('age' 17) loves pizza and plays tennis ('hobby') every weekend. Today, Tanay is happy because he ate his ('favoirite_food').\"\n",
    "\n",
    "5. Optional: Add **extra variables** to make your story longer and more creative.  \n",
    "   You can also create “day 2”, “day 3”, etc., by reassigning variables and printing new sentences.\n",
    "\n",
    "### Goal:\n",
    "\n",
    "- Show creativity while practicing:  \n",
    "  - Variable creation  \n",
    "  - Variable reassignment  \n",
    "  - Using variables in print statements\n",
    "  - Experiment with assigment and reassigment to update variables \n"
   ]
  },
  {
   "cell_type": "code",
   "execution_count": 6,
   "id": "e944fc74",
   "metadata": {},
   "outputs": [
    {
     "name": "stdout",
     "output_type": "stream",
     "text": [
      "Vivian is 16 years old and loves eating sushi.\n",
      "She enjoys painting in her free time and owns 1 pet.\n",
      "Today she is feeling excited while wearing her navy blue sweater.\n",
      "One day, Vivian wants to become a bakery owner.\n",
      "Life is good!\n",
      "\n",
      "--- Day 2 ---\n",
      "Vivian is now 16.5 and her favorite food has changed to ramen.\n",
      "She picked up a new hobby: softball.\n",
      "After a long day, she feels happy.\n",
      "But she still dreams of being a bakery owner.\n",
      "Her journey continues!\n"
     ]
    }
   ],
   "source": [
    "# Creative Challenge: Character Story\n",
    "\n",
    "# Step 1: Create variables\n",
    "name = \"Vivian\"\n",
    "age = 16\n",
    "favorite_food = \"sushi\"\n",
    "hobby = \"painting\"\n",
    "number_of_pets = 1\n",
    "mood = \"excited\"\n",
    "favorite_color = \"navy blue\"\n",
    "dream_job = \"bakery owner\"\n",
    "\n",
    "# Step 2: Print starting profile\n",
    "print(name, \"is\", age, \"years old and loves eating\", favorite_food + \".\")\n",
    "print(\"She enjoys\", hobby, \"in her free time and owns\", number_of_pets, \"pet.\")\n",
    "print(\"Today she is feeling\", mood, \"while wearing her\", favorite_color, \"sweater.\")\n",
    "print(\"One day,\", name, \"wants to become a\", dream_job + \".\")\n",
    "print(\"Life is good!\")\n",
    "\n",
    "# Step 3: Reassign variables to show changes over time\n",
    "age = 16.5\n",
    "favorite_food = \"ramen\"\n",
    "hobby = \"softball\"\n",
    "mood = \"happy\"\n",
    "\n",
    "# Step 4: Print updated story (Day 2)\n",
    "print(\"\\n--- Day 2 ---\")\n",
    "print(name, \"is now\", age, \"and her favorite food has changed to\", favorite_food + \".\")\n",
    "print(\"She picked up a new hobby:\", hobby + \".\")\n",
    "print(\"After a long day, she feels\", mood + \".\")\n",
    "print(\"But she still dreams of being a\", dream_job + \".\")\n",
    "print(\"Her journey continues!\")\n"
   ]
  },
  {
   "cell_type": "markdown",
   "id": "c6696e07",
   "metadata": {},
   "source": [
    "## Vivian's Popcorn Hack 1"
   ]
  },
  {
   "cell_type": "code",
   "execution_count": null,
   "id": "1cc3e836",
   "metadata": {},
   "outputs": [],
   "source": [
    "# Finish the code \n",
    "# Example: snakeSize = 10\n",
    "snakeSize = 3   # <-- Add the size of the snake\n",
    "snakeColor = \"green\"  # <-- Add the color of the snake\n",
    "\n",
    "# Print greeting\n",
    "print(\"The snake is \" + str(snakeSize) + \" inches long and it's \" + snakeColor + \".\")\n"
   ]
  },
  {
   "cell_type": "markdown",
   "id": "c60b4ca9",
   "metadata": {},
   "source": [
    "## Vivian's Popcorn Hack 2"
   ]
  },
  {
   "cell_type": "code",
   "execution_count": null,
   "id": "2de8346c",
   "metadata": {},
   "outputs": [],
   "source": [
    "# # Finish the code \n",
    "# Define the win/lose messages first\n",
    "messageWin = \"You win!\" # <-- Change this to \"You win!\"\n",
    "messageLose = \"You lose!\" # <-- Change this to \"You lose!\"\n",
    "\n",
    "# Choose outcome\n",
    "winOrLose = \"win\" or \"lose\"  # <-- Change this to either \"win\" or \"lose\"\n",
    "\n",
    "# Print result\n",
    "if winOrLose == \"win\":\n",
    "    print(messageWin)\n",
    "else:\n",
    "    print(messageLose)\n"
   ]
  },
  {
   "cell_type": "markdown",
   "id": "d75a4417",
   "metadata": {},
   "source": []
  }
 ],
 "metadata": {
  "kernelspec": {
   "display_name": "base",
   "language": "python",
   "name": "python3"
  },
  "language_info": {
   "codemirror_mode": {
    "name": "ipython",
    "version": 3
   },
   "file_extension": ".py",
   "mimetype": "text/x-python",
   "name": "python",
   "nbconvert_exporter": "python",
   "pygments_lexer": "ipython3",
   "version": "3.13.5"
  }
 },
 "nbformat": 4,
 "nbformat_minor": 5
}
