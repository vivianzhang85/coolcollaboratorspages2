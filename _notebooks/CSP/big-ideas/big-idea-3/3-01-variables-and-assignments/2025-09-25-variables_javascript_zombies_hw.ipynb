{
 "cells": [
  {
   "cell_type": "raw",
   "id": "5d9d659b",
   "metadata": {
    "vscode": {
     "languageId": "raw"
    }
   },
   "source": [
    "---\n",
    "layout: post\n",
    "title: Variables & Assignments\n",
    "description: This page will provide homework for the variables and assigmnets lesson.\n",
    "permalink: /js/variables/zombies/hw\n",
    "breadcrumb: True\n",
    "Author: Ethan Patel, Tanay Paranjpe, Neil Manjrekar\n",
    "---"
   ]
  },
  {
   "cell_type": "markdown",
   "id": "4f2bb0f9",
   "metadata": {},
   "source": [
    "## Javascript Variables HW"
   ]
  },
  {
   "cell_type": "code",
   "execution_count": 1,
   "id": "a349231f",
   "metadata": {
    "vscode": {
     "languageId": "javascript"
    }
   },
   "outputs": [
    {
     "ename": "SyntaxError",
     "evalue": "invalid syntax (1385337145.py, line 1)",
     "output_type": "error",
     "traceback": [
      "  \u001b[36mCell\u001b[39m\u001b[36m \u001b[39m\u001b[32mIn[1]\u001b[39m\u001b[32m, line 1\u001b[39m\n\u001b[31m    \u001b[39m\u001b[31m// Part 1\u001b[39m\n    ^\n\u001b[31mSyntaxError\u001b[39m\u001b[31m:\u001b[39m invalid syntax\n"
     ]
    }
   ],
   "source": [
    "// Part 1\n",
    "// Personal info\n",
    "let myName = \"Vivian Zhang\";       // Fill in your name\n",
    "let myAge = ;16          // Fill in your age (number, no quotes)\n",
    "let myCity = \"San Diego\";       // Fill in the city where you live\n",
    "\n",
    "// Part 2\n",
    "// Preferences\n",
    "let favoriteColor = \"Navy Blue\";      // Your favorite color\n",
    "let favoriteFood = \"Sushi\";       // Your favorite food\n",
    "let favoriteMovie = \"The Parent Trap\";      // Your favorite movie\n",
    "let favoriteSong = \"Neverender\";       // Your favorite song\n",
    "\n",
    "// Part 3\n",
    "// Reassign some variables (you can change their values later)\n",
    "favoriteFood = \"Ramen\";      // Change your favorite food\n",
    "myCity = \"Los Angelos\";            // Change your city\n",
    "let hasPet = true;          // true or false (Boolean)\n",
    "\n",
    "// Part 4\n",
    "// Add some more details\n",
    "let isStudent = true;       // true or false\n",
    "let isOnline = true;        // true or false\n",
    "let likesMusic = true;      // true or false\n",
    "\n",
    "// Part 5: Print Your Life Profile\n",
    "let myName = \"Vivian\";\n",
    "let myAge = 16;\n",
    "let myCity = \"San Diego\";\n",
    "let favoriteColor = \"Navy Blue\";\n",
    "let favoriteFood = \"Sushi\";\n",
    "let favoriteMovie = \"The Parent Trap\";\n",
    "let favoriteSong = \"Neverender\";\n",
    "let isStudent = true;\n",
    "let hasPet = true;\n",
    "let isOnline = true;\n",
    "let likesMusic = true;\n",
    "\n",
    "console.log(\"Name:\", myName);\n",
    "console.log(\"Age:\", myAge);\n",
    "console.log(\"City:\", myCity);\n",
    "console.log(\"Favorite color:\", favoriteColor);\n",
    "console.log(\"Favorite food:\", favoriteFood);\n",
    "console.log(\"Favorite movie:\", favoriteMovie);\n",
    "console.log(\"Favorite song:\", favoriteSong);\n",
    "console.log(\"Student?\", isStudent);\n",
    "console.log(\"Has pet?\", hasPet);\n",
    "console.log(\"Online?\", isOnline);\n",
    "console.log(\"Likes music?\", likesMusic);\n"
   ]
  }
 ],
 "metadata": {
  "kernelspec": {
   "display_name": "base",
   "language": "python",
   "name": "python3"
  },
  "language_info": {
   "codemirror_mode": {
    "name": "ipython",
    "version": 3
   },
   "file_extension": ".py",
   "mimetype": "text/x-python",
   "name": "python",
   "nbconvert_exporter": "python",
   "pygments_lexer": "ipython3",
   "version": "3.13.5"
  }
 },
 "nbformat": 4,
 "nbformat_minor": 5
}
