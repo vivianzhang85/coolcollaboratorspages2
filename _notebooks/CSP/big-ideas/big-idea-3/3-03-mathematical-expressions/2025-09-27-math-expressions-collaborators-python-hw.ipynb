{
 "cells": [
  {
   "cell_type": "raw",
   "id": "19859a1a",
   "metadata": {
    "vscode": {
     "languageId": "raw"
    }
   },
   "source": [
    "---\n",
    "layout: post\n",
    "title: Math Expressions Homework\n",
    "description: Quick practice with math expressions\n",
    "permalink: csp/python/mathexpressions/collaborators/homework\n",
    "Author: Alice L, Nitya R, Brandon C\n",
    "---"
   ]
  },
  {
   "cell_type": "markdown",
   "id": "9b05e17a",
   "metadata": {},
   "source": [
    "## Math Expressions Homework"
   ]
  },
  {
   "cell_type": "markdown",
   "id": "d5e112da",
   "metadata": {},
   "source": [
    "<!-- 📝 Homework: Multiple Choice (Read-Only) -->\n",
    "<div style=\"font-family:system-ui,sans-serif; background:#0b0c0f; color:#f6f7fb; padding:20px; border-radius:16px; max-width:900px; margin:auto; line-height:1.6; margin-bottom:20px;\">\n",
    "  <h2>📝 Homework: Multiple Choice</h2>\n",
    "\n",
    "  <p>1) What will the following Python code output?</p>\n",
    "  <pre><code>x = 10\n",
    "y = 3\n",
    "print(x % y + x // y)</code></pre>\n",
    "  <p>A. 4 &nbsp;&nbsp; B. 5 &nbsp;&nbsp; C. 6 &nbsp;&nbsp; D. 7</p>\n",
    "\n",
    "  <p>2) Which of the following <b>best describes</b> a mathematical expression in programming?</p>\n",
    "  <p>A. A sequence of steps used to solve a problem &nbsp;&nbsp; B. A combination of values, variables, and operators that evaluates to a single value &nbsp;&nbsp; C. A diagram that represents decision-making in code &nbsp;&nbsp; D. A way to store multiple values in a list</p>\n",
    "\n",
    "  <p>3) What is the value of <code>result</code> in the following code?</p>\n",
    "  <pre><code>num1 = 8\n",
    "num2 = 3\n",
    "result = num1 * num2 - num1 / num2</code></pre>\n",
    "  <p>A. 21.33 &nbsp;&nbsp; B. 22.0 &nbsp;&nbsp; C. 20.5 &nbsp;&nbsp; D. 21.0</p>\n",
    "\n",
    "  <p>4) What will this code output?</p>\n",
    "  <pre><code>a = 15\n",
    "b = 4\n",
    "print(a // b)</code></pre>\n",
    "  <p>A. 3.75 &nbsp;&nbsp; B. 4 &nbsp;&nbsp; C. 3 &nbsp;&nbsp; D. Error</p>\n",
    "\n",
    "  <p>5) Which of the following best represents <code>a % b</code> in Python?</p>\n",
    "  <p>A. Quotient of a divided by b &nbsp;&nbsp; B. Remainder when a is divided by b &nbsp;&nbsp; C. a raised to the power of b &nbsp;&nbsp; D. Absolute value of a - b</p>\n",
    "\n",
    "  <p>6) What is the value of <code>result</code>?</p>\n",
    "  <pre><code>x = 2\n",
    "y = 5\n",
    "result = x ** y % 3</code></pre>\n",
    "  <p>A. 2 &nbsp;&nbsp; B. 1 &nbsp;&nbsp; C. 0 &nbsp;&nbsp; D. 32</p>\n",
    "\n",
    "  <p>7) What will this print?</p>\n",
    "  <pre><code>num = 7\n",
    "print((num + 3) * 2 / 5)</code></pre>\n",
    "  <p>A. 4.0 &nbsp;&nbsp; B. 5.0 &nbsp;&nbsp; C. 3.0 &nbsp;&nbsp; D. 2.0</p>\n",
    "\n",
    "  <p>8) Which expression correctly calculates the distance between points (x1, y1) and (x2, y2)?</p>\n",
    "  <p>A. sqrt((x2 - x1) + (y2 - y1)) &nbsp;&nbsp; B. sqrt((x2 - x1) * (y2 - y1)) &nbsp;&nbsp; C. sqrt((x2 - x1)**2 + (y2 - y1)**2) &nbsp;&nbsp; D. (x2 - x1) + (y2 - y1)</p>\n",
    "</div>\n"
   ]
  },
  {
   "cell_type": "raw",
   "id": "4b8eb0d7",
   "metadata": {
    "vscode": {
     "languageId": "raw"
    }
   },
   "source": [
    "Type Your Answers Here\n",
    "1. \n",
    "2. \n",
    "3. \n",
    "4. \n",
    "5. \n",
    "6. \n",
    "7. \n",
    "8. "
   ]
  },
  {
   "cell_type": "markdown",
   "id": "29d120d4",
   "metadata": {},
   "source": [
    "<!-- 📝 Homework: Free Response -->\n",
    "<div style=\"font-family:system-ui,sans-serif; background:#0b0c0f; color:#f6f7fb; padding:20px; border-radius:16px; max-width:900px; margin:auto; line-height:1.6; margin-bottom:20px;\">\n",
    "  <h2>📝 Homework: Free Response</h2>\n",
    "\n",
    "  <p>1) Explain how <b>order of operations (PEMDAS)</b> affects the evaluation of:</p>\n",
    "  <pre><code>result = 6 + 4 * 2 % 5</code></pre>\n",
    "  <p>- Show the step-by-step evaluation.<br>- Write the final answer.</p>\n",
    "\n",
    "  <p>2) Write a Python function called <code>calculate_mod_sum</code> that takes three numbers a, b, and c, and returns the sum of a % b and b % c. Make sure your function handles cases where b or c is zero.</p>\n",
    "\n",
    "  <p>3) Create a Python program that calculates the area of a trapezoid. The formula for the area is:</p>\n",
    "  <pre><code>area = ((base1 + base2) / 2) * height</code></pre>\n",
    "  <p>Ask the user for <code>base1</code>, <code>base2</code>, and <code>height</code>, compute the area, and print the result.</p>\n",
    "\n",
    "  <p>4) Explain step-by-step how Python evaluates the following expression using order of operations (PEMDAS):</p>\n",
    "  <pre><code>result = 8 + 12 / 4 * 2 - 5 % 3</code></pre>\n",
    "  <p>Include the intermediate steps and the final value of <code>result</code>.</p>\n",
    "\n",
    "  <p>5) Consider the expression:</p>\n",
    "  <pre><code>x = 7\n",
    "y = 2\n",
    "z = 3\n",
    "result = x + y * z % 4</code></pre>\n",
    "  <p>Explain step-by-step how Python calculates <code>result</code> and give the final value.</p>\n",
    "</div>\n"
   ]
  }
 ],
 "metadata": {
  "language_info": {
   "name": "python"
  }
 },
 "nbformat": 4,
 "nbformat_minor": 5
}
